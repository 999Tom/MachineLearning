{
 "cells": [
  {
   "cell_type": "code",
   "execution_count": 2,
   "metadata": {},
   "outputs": [],
   "source": [
    "#import statements\n",
    "import matplotlib.pyplot as plt\n",
    "import pandas as pd\n",
    "import numpy as np\n",
    "from sklearn.linear_model import LogisticRegression\n",
    "from sklearn.model_selection import train_test_split\n"
   ]
  },
  {
   "cell_type": "code",
   "execution_count": null,
   "metadata": {},
   "outputs": [],
   "source": []
  },
  {
   "cell_type": "code",
   "execution_count": 8,
   "metadata": {},
   "outputs": [
    {
     "data": {
      "image/png": "[encoded data removed]",
      "text/plain": [
       "<Figure size 432x288 with 1 Axes>"
      ]
     },
     "metadata": {
      "needs_background": "light"
     },
     "output_type": "display_data"
    }
   ],
   "source": [
    "data = pd.read_csv(\"data1.csv\", sep=\",\")\n",
    "\n",
    "%matplotlib inline\n",
    "plt.plot(data.interac_time, data.Grade,'ro')\n",
    "plt.xlabel('click times')\n",
    "plt.show()\n",
    "\n"
   ]
  },
  {
   "cell_type": "code",
   "execution_count": 31,
   "metadata": {},
   "outputs": [
    {
     "data": {
      "text/plain": [
       "'Distinction'"
      ]
     },
     "execution_count": 31,
     "metadata": {},
     "output_type": "execute_result"
    }
   ],
   "source": [
    "data.Grade[0]"
   ]
  },
  {
   "cell_type": "code",
   "execution_count": 32,
   "metadata": {},
   "outputs": [
    {
     "data": {
      "text/plain": [
       "2732"
      ]
     },
     "execution_count": 32,
     "metadata": {},
     "output_type": "execute_result"
    }
   ],
   "source": [
    "data.interac_time[0]\n"
   ]
  },
  {
   "cell_type": "code",
   "execution_count": 33,
   "metadata": {},
   "outputs": [
    {
     "data": {
      "text/plain": [
       "0    10.194030\n",
       "1     1.593284\n",
       "2     2.123134\n",
       "3     1.735075\n",
       "Name: Ratio, dtype: float64"
      ]
     },
     "execution_count": 33,
     "metadata": {},
     "output_type": "execute_result"
    }
   ],
   "source": [
    "data.Ratio[0:4]"
   ]
  },
  {
   "cell_type": "code",
   "execution_count": 34,
   "metadata": {},
   "outputs": [
    {
     "data": {
      "text/plain": [
       "0    Distinction\n",
       "1           Fail\n",
       "2           Pass\n",
       "3      Withdrawn\n",
       "Name: Grade, dtype: object"
      ]
     },
     "execution_count": 34,
     "metadata": {},
     "output_type": "execute_result"
    }
   ],
   "source": [
    "data.Grade[0:4]\n"
   ]
  },
  {
   "cell_type": "code",
   "execution_count": 247,
   "metadata": {},
   "outputs": [],
   "source": [
    "#one feature\n",
    "hs_ratio = data[['interac_time']].copy()\n",
    "#two feature\n",
    "hs_ratio2 = data.drop(['Grade','Ratio'], axis = 1)"
   ]
  },
  {
   "cell_type": "code",
   "execution_count": 289,
   "metadata": {},
   "outputs": [],
   "source": [
    "x_train, x_test, y_train, y_test = train_test_split(hs_ratio2, data.Grade, test_size = 0.2)"
   ]
  },
  {
   "cell_type": "code",
   "execution_count": 290,
   "metadata": {},
   "outputs": [],
   "source": [
    "x_train2, x_test2, y_train2, y_test2 = train_test_split(hs_ratio, data.Grade, test_size = 0.2)\n"
   ]
  },
  {
   "cell_type": "code",
   "execution_count": 291,
   "metadata": {},
   "outputs": [],
   "source": [
    "modelR1_F2 = LogisticRegression(solver = \"newton-cg\")\n",
    "modelR2_F2 = LogisticRegression(solver = \"sag\")\n",
    "modelR3_F2 = LogisticRegression(solver = \"saga\")\n",
    "modelR4_F2 = LogisticRegression(solver = \"lbfgs\")\n"
   ]
  },
  {
   "cell_type": "code",
   "execution_count": 292,
   "metadata": {},
   "outputs": [],
   "source": [
    "\n",
    "modelR1_F1 = LogisticRegression(solver = \"newton-cg\")\n",
    "modelR2_F1 = LogisticRegression(solver = \"sag\")\n",
    "modelR3_F1 = LogisticRegression(solver = \"saga\")\n",
    "modelR4_F1 = LogisticRegression(solver = \"lbfgs\")\n",
    "\n",
    "\n"
   ]
  },
  {
   "cell_type": "code",
   "execution_count": 313,
   "metadata": {},
   "outputs": [
    {
     "name": "stderr",
     "output_type": "stream",
     "text": [
      "/Library/Frameworks/Python.framework/Versions/3.7/lib/python3.7/site-packages/sklearn/linear_model/_sag.py:330: ConvergenceWarning: The max_iter was reached which means the coef_ did not converge\n",
      "  \"the coef_ did not converge\", ConvergenceWarning)\n",
      "/Library/Frameworks/Python.framework/Versions/3.7/lib/python3.7/site-packages/sklearn/linear_model/_sag.py:330: ConvergenceWarning: The max_iter was reached which means the coef_ did not converge\n",
      "  \"the coef_ did not converge\", ConvergenceWarning)\n"
     ]
    },
    {
     "data": {
      "text/plain": [
       "LogisticRegression(C=1.0, class_weight=None, dual=False, fit_intercept=True,\n",
       "                   intercept_scaling=1, l1_ratio=None, max_iter=100,\n",
       "                   multi_class='auto', n_jobs=None, penalty='l2',\n",
       "                   random_state=None, solver='lbfgs', tol=0.0001, verbose=0,\n",
       "                   warm_start=False)"
      ]
     },
     "execution_count": 313,
     "metadata": {},
     "output_type": "execute_result"
    }
   ],
   "source": [
    "import time\n",
    "\n",
    "start = time.time()\n",
    "\n",
    "modelR1_F2.fit(x_train,y_train)\n",
    "modelR2_F2.fit(x_train,y_train)\n",
    "modelR3_F2.fit(x_train,y_train)\n",
    "modelR4_F2.fit(x_train,y_train)\n"
   ]
  },
  {
   "cell_type": "code",
   "execution_count": 314,
   "metadata": {},
   "outputs": [
    {
     "data": {
      "text/plain": [
       "LogisticRegression(C=1.0, class_weight=None, dual=False, fit_intercept=True,\n",
       "                   intercept_scaling=1, l1_ratio=None, max_iter=100,\n",
       "                   multi_class='auto', n_jobs=None, penalty='l2',\n",
       "                   random_state=None, solver='lbfgs', tol=0.0001, verbose=0,\n",
       "                   warm_start=False)"
      ]
     },
     "execution_count": 314,
     "metadata": {},
     "output_type": "execute_result"
    }
   ],
   "source": [
    "modelR1_F1.fit(x_train2,y_train2)\n",
    "modelR2_F1.fit(x_train2,y_train2)\n",
    "modelR3_F1.fit(x_train2,y_train2)\n",
    "modelR4_F1.fit(x_train2,y_train2)\n"
   ]
  },
  {
   "cell_type": "code",
   "execution_count": 315,
   "metadata": {},
   "outputs": [
    {
     "name": "stdout",
     "output_type": "stream",
     "text": [
      "0.3888888888888889\n",
      "0.4444444444444444\n",
      "0.5\n",
      "0.3888888888888889\n"
     ]
    }
   ],
   "source": [
    "print(modelR1_F2.score(x_test,y_test))\n",
    "print(modelR2_F2.score(x_test,y_test))\n",
    "print(modelR3_F2.score(x_test,y_test))\n",
    "print(modelR4_F2.score(x_test,y_test))\n"
   ]
  },
  {
   "cell_type": "code",
   "execution_count": 316,
   "metadata": {},
   "outputs": [
    {
     "name": "stdout",
     "output_type": "stream",
     "text": [
      "0.3888888888888889\n",
      "0.1111111111111111\n",
      "0.1111111111111111\n",
      "0.2777777777777778\n",
      "time 1.5555987358093262\n"
     ]
    }
   ],
   "source": [
    "print(modelR1_F1.score(x_test2,y_test2))\n",
    "print(modelR2_F1.score(x_test2,y_test2))\n",
    "print(modelR3_F1.score(x_test2,y_test2))\n",
    "print(modelR4_F1.score(x_test2,y_test2))\n",
    "end = time.time()\n",
    "print(\"time\",end - start)"
   ]
  },
  {
   "cell_type": "code",
   "execution_count": 297,
   "metadata": {},
   "outputs": [],
   "source": [
    "from sklearn import svm"
   ]
  },
  {
   "cell_type": "code",
   "execution_count": 310,
   "metadata": {},
   "outputs": [
    {
     "data": {
      "text/plain": [
       "SVC(C=1.0, break_ties=False, cache_size=200, class_weight=None, coef0=0.0,\n",
       "    decision_function_shape='ovr', degree=3, gamma='scale', kernel='poly',\n",
       "    max_iter=-1, probability=False, random_state=None, shrinking=True,\n",
       "    tol=0.001, verbose=False)"
      ]
     },
     "execution_count": 310,
     "metadata": {},
     "output_type": "execute_result"
    }
   ],
   "source": [
    "\n",
    "modelSVM1_F2 = svm.SVC(kernel='linear') # Linear Kernel\n",
    "modelSVM2_F2 = svm.SVC(kernel='rbf') # rbf Kernel\n",
    "modelSVM3_F2 = svm.SVC(kernel='sigmoid') # sigmoid Kernel\n",
    "modelSVM4_F2 = svm.SVC(kernel='poly') # poly Kernel\n",
    "\n",
    "\n",
    "modelSVM1_F1 = svm.SVC(kernel='linear') # Linear Kernel\n",
    "modelSVM2_F1 = svm.SVC(kernel='rbf') # Linear Kernel\n",
    "modelSVM3_F1 = svm.SVC(kernel='sigmoid') # Linear Kernel\n",
    "modelSVM4_F1 = svm.SVC(kernel='poly') # Linear Kernel\n",
    "#Train the model using the training sets\n",
    "modelSVM1_F2.fit(x_train, y_train)\n",
    "modelSVM2_F2.fit(x_train, y_train)\n",
    "modelSVM3_F2.fit(x_train, y_train)\n",
    "modelSVM4_F2.fit(x_train, y_train)\n",
    "\n",
    "modelSVM1_F1.fit(x_train2, y_train2)\n",
    "modelSVM2_F1.fit(x_train2, y_train2)\n",
    "modelSVM3_F1.fit(x_train2, y_train2)\n",
    "modelSVM4_F1.fit(x_train2, y_train2)"
   ]
  },
  {
   "cell_type": "code",
   "execution_count": 311,
   "metadata": {},
   "outputs": [
    {
     "name": "stdout",
     "output_type": "stream",
     "text": [
      "0.5\n",
      "0.5\n",
      "0.3888888888888889\n",
      "0.2777777777777778\n"
     ]
    }
   ],
   "source": [
    "print(modelSVM1_F2.score(x_test, y_test))\n",
    "print(modelSVM2_F2.score(x_test, y_test))\n",
    "print(modelSVM3_F2.score(x_test, y_test))\n",
    "print(modelSVM4_F2.score(x_test, y_test))"
   ]
  },
  {
   "cell_type": "code",
   "execution_count": 312,
   "metadata": {},
   "outputs": [
    {
     "name": "stdout",
     "output_type": "stream",
     "text": [
      "0.4444444444444444\n",
      "0.3888888888888889\n",
      "0.3333333333333333\n",
      "0.3333333333333333\n"
     ]
    }
   ],
   "source": [
    "print(modelSVM1_F1.score(x_test2, y_test2))\n",
    "print(modelSVM2_F1.score(x_test2, y_test2))\n",
    "print(modelSVM3_F1.score(x_test2, y_test2))\n",
    "print(modelSVM4_F1.score(x_test2, y_test2))"
   ]
  },
  {
   "cell_type": "code",
   "execution_count": 308,
   "metadata": {},
   "outputs": [
    {
     "name": "stdout",
     "output_type": "stream",
     "text": [
      "##2 features:##\n",
      "Logistic Regression:\n",
      "\n",
      "newton-cg:  0.3888888888888889\n",
      "sag:  0.4444444444444444\n",
      "saga:  0.5\n",
      "lbfgs:  0.3888888888888889\n",
      "\n",
      "SVM:\n",
      "\n",
      "linear:  0.5\n",
      "rbf:  0.5\n",
      "sigmoid:  0.3888888888888889\n",
      "poly:  0.2777777777777778\n",
      "\n",
      "##1 feature:##\n",
      "Logistic Regression:\n",
      "\n",
      "newton-cg:  0.3888888888888889\n",
      "sag:  0.1111111111111111\n",
      "saga:  0.1111111111111111\n",
      "lbfgs:  0.2777777777777778\n",
      "\n",
      "SVM:\n",
      "\n",
      "linear:  0.4444444444444444\n",
      "rbf:  0.3888888888888889\n",
      "sigmoid:  0.3333333333333333\n",
      "poly:  0.3333333333333333\n"
     ]
    }
   ],
   "source": [
    "print(\"##2 features:##\")\n",
    "print(\"Logistic Regression:\\n\")\n",
    "\n",
    "print(\"newton-cg: \",modelR1_F2.score(x_test,y_test))\n",
    "print(\"sag: \",modelR2_F2.score(x_test,y_test))\n",
    "print(\"saga: \",modelR3_F2.score(x_test,y_test))\n",
    "print(\"lbfgs: \",modelR4_F2.score(x_test,y_test))\n",
    "print(\"\")\n",
    "print(\"SVM:\\n\")\n",
    "print(\"linear: \",modelSVM1_F2.score(x_test, y_test))\n",
    "print(\"rbf: \",modelSVM2_F2.score(x_test, y_test))\n",
    "print(\"sigmoid: \",modelSVM3_F2.score(x_test, y_test))\n",
    "print(\"poly: \",modelSVM4_F2.score(x_test, y_test))\n",
    "print(\"\")\n",
    "print(\"##1 feature:##\")\n",
    "print(\"Logistic Regression:\\n\")\n",
    "print(\"newton-cg: \",modelR1_F1.score(x_test2,y_test2))\n",
    "print(\"sag: \",modelR2_F1.score(x_test2,y_test2))\n",
    "print(\"saga: \",modelR3_F1.score(x_test2,y_test2))\n",
    "print(\"lbfgs: \",modelR4_F1.score(x_test2,y_test2))\n",
    "print(\"\")\n",
    "print(\"SVM:\\n\")\n",
    "print(\"linear: \",modelSVM1_F1.score(x_test2, y_test2))\n",
    "print(\"rbf: \",modelSVM2_F1.score(x_test2, y_test2))\n",
    "print(\"sigmoid: \",modelSVM3_F1.score(x_test2, y_test2))\n",
    "print(\"poly: \",modelSVM4_F1.score(x_test2, y_test2))\n",
    "\n"
   ]
  },
  {
   "cell_type": "code",
   "execution_count": null,
   "metadata": {},
   "outputs": [],
   "source": []
  },
  {
   "cell_type": "code",
   "execution_count": null,
   "metadata": {},
   "outputs": [],
   "source": []
  },
  {
   "cell_type": "code",
   "execution_count": null,
   "metadata": {},
   "outputs": [],
   "source": []
  }
 ],
 "metadata": {
  "kernelspec": {
   "display_name": "Python 3",
   "language": "python",
   "name": "python3"
  },
  "language_info": {
   "codemirror_mode": {
    "name": "ipython",
    "version": 3
   },
   "file_extension": ".py",
   "mimetype": "text/x-python",
   "name": "python",
   "nbconvert_exporter": "python",
   "pygments_lexer": "ipython3",
   "version": "3.7.4"
  }
 },
 "nbformat": 4,
 "nbformat_minor": 4
}
